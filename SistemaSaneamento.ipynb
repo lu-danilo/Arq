{
  "nbformat": 4,
  "nbformat_minor": 0,
  "metadata": {
    "colab": {
      "provenance": [],
      "authorship_tag": "ABX9TyOgyFRJRQLKxIS8XMwJaBsh",
      "include_colab_link": true
    },
    "kernelspec": {
      "name": "python3",
      "display_name": "Python 3"
    },
    "language_info": {
      "name": "python"
    }
  },
  "cells": [
    {
      "cell_type": "markdown",
      "metadata": {
        "id": "view-in-github",
        "colab_type": "text"
      },
      "source": [
        "<a href=\"https://colab.research.google.com/github/lu-danilo/Arq/blob/main/SistemaSaneamento.ipynb\" target=\"_parent\"><img src=\"https://colab.research.google.com/assets/colab-badge.svg\" alt=\"Open In Colab\"/></a>"
      ]
    },
    {
      "cell_type": "markdown",
      "source": [
        "Este sistema básico calculará as perdas físicas e comerciais em uma rede de saneamento, com base em dados de entrada como volume de água produzido, volume de água distribuído, volume faturado, e água consumida não faturada."
      ],
      "metadata": {
        "id": "x7mmwoJhM8EX"
      }
    },
    {
      "cell_type": "code",
      "execution_count": 1,
      "metadata": {
        "colab": {
          "base_uri": "https://localhost:8080/"
        },
        "id": "vc3gof-oLatJ",
        "outputId": "20c4f5fd-8239-476b-d66d-35b12d9ab21a"
      },
      "outputs": [
        {
          "output_type": "stream",
          "name": "stdout",
          "text": [
            "Digite o volume de água produzido (m³): 100\n",
            "Digite o volume de água distribuído (m³): 80\n",
            "Digite o volume de água faturado (m³): 20\n",
            "Digite o volume de água consumido não faturado (m³): 30\n",
            "\n",
            "Relatório de Perdas no Saneamento\n",
            "-------------------------------\n",
            "Volume de Água Produzido: 100.0 m³\n",
            "Volume de Água Distribuído: 80.0 m³\n",
            "Volume de Água Faturado: 20.0 m³\n",
            "Água Consumida Não Faturada: 30.0 m³\n",
            "-------------------------------\n",
            "Perda Física: 20.00%\n",
            "Perda Comercial: 37.50%\n",
            "-------------------------------\n",
            "\n"
          ]
        }
      ],
      "source": [
        "\n",
        "class SistemaSaneamento:\n",
        "    def __init__(self, volume_produzido, volume_distribuido, volume_faturado, agua_nao_faturada):\n",
        "        self.volume_produzido = volume_produzido\n",
        "        self.volume_distribuido = volume_distribuido\n",
        "        self.volume_faturado = volume_faturado\n",
        "        self.agua_nao_faturada = agua_nao_faturada\n",
        "\n",
        "    # Calcular perdas físicas (vazamentos, etc)\n",
        "    def calcular_perda_fisica(self):\n",
        "        if self.volume_produzido == 0:\n",
        "            return 0\n",
        "        perda_fisica = (self.volume_produzido - self.volume_distribuido) / self.volume_produzido * 100\n",
        "        return perda_fisica\n",
        "\n",
        "    # Calcular perdas comerciais (fraudes, erros de medição)\n",
        "    def calcular_perda_comercial(self):\n",
        "        if self.volume_distribuido == 0:\n",
        "            return 0\n",
        "        perda_comercial = (self.volume_distribuido - self.volume_faturado - self.agua_nao_faturada) / self.volume_distribuido * 100\n",
        "        return perda_comercial\n",
        "\n",
        "    # Gerar relatório de perdas\n",
        "    def gerar_relatorio(self):\n",
        "        perda_fisica = self.calcular_perda_fisica()\n",
        "        perda_comercial = self.calcular_perda_comercial()\n",
        "\n",
        "        print(\"\\nRelatório de Perdas no Saneamento\")\n",
        "        print(\"-------------------------------\")\n",
        "        print(f\"Volume de Água Produzido: {self.volume_produzido} m³\")\n",
        "        print(f\"Volume de Água Distribuído: {self.volume_distribuido} m³\")\n",
        "        print(f\"Volume de Água Faturado: {self.volume_faturado} m³\")\n",
        "        print(f\"Água Consumida Não Faturada: {self.agua_nao_faturada} m³\")\n",
        "        print(\"-------------------------------\")\n",
        "        print(f\"Perda Física: {perda_fisica:.2f}%\")\n",
        "        print(f\"Perda Comercial: {perda_comercial:.2f}%\")\n",
        "        print(\"-------------------------------\\n\")\n",
        "\n",
        "\n",
        "# Exemplo de uso\n",
        "if __name__ == \"__main__\":\n",
        "    # Exemplo de dados de entrada\n",
        "    volume_produzido = float(input(\"Digite o volume de água produzido (m³): \"))\n",
        "    volume_distribuido = float(input(\"Digite o volume de água distribuído (m³): \"))\n",
        "    volume_faturado = float(input(\"Digite o volume de água faturado (m³): \"))\n",
        "    agua_nao_faturada = float(input(\"Digite o volume de água consumido não faturado (m³): \"))\n",
        "\n",
        "    # Criar sistema e calcular perdas\n",
        "    sistema = SistemaSaneamento(volume_produzido, volume_distribuido, volume_faturado, agua_nao_faturada)\n",
        "    sistema.gerar_relatorio()"
      ]
    }
  ]
}